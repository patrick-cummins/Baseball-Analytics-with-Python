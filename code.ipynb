{
 "cells": [
  {
   "cell_type": "markdown",
   "metadata": {},
   "source": [
    "Welcome to Baseball Analytics using Python! Some of the core technical concepts we will be covering in this workshop will be:\n",
    "- Data Visualization Techniques / General Graphing\n",
    "- Linear Regression\n",
    "- Pandas DataFrames / Data Manipulation / Data Analysis\n",
    "\n",
    "Some of the core baseball concepts we will be covering in this workshop will be:\n",
    "- Sabermetrics\n",
    "- Run Expectancy / Win Expectancy\n",
    "- Understanding Career Trajectories"
   ]
  },
  {
   "cell_type": "markdown",
   "metadata": {},
   "source": [
    "To start, here a list of the important baseball statistics you will need to know for our analysis today:\n",
    "- Batting Average\n",
    "- Slugging Percentage (SLG)\n",
    "- On Base Percentage (OBP)\n",
    "- On Base + Slugging (OPS)"
   ]
  },
  {
   "cell_type": "markdown",
   "metadata": {},
   "source": [
    "-------------------------------------------------------------------------"
   ]
  },
  {
   "cell_type": "markdown",
   "metadata": {},
   "source": [
    "# Introduction to Sabermetrics"
   ]
  },
  {
   "cell_type": "markdown",
   "metadata": {},
   "source": [
    "Definition:\n",
    "Sabermetrics is the empirical analysis of baseball, especially baseball statistics that measure in-game activity. \n",
    "\n",
    "- Why is this important?\n",
    "\n",
    "- Examples:\n",
    "     - wRC+\n",
    "     - defense-independent ERA\n",
    "     - FIP\n",
    "     - OPS+"
   ]
  },
  {
   "cell_type": "markdown",
   "metadata": {},
   "source": [
    "-------------------------------------------------------------------------"
   ]
  },
  {
   "cell_type": "markdown",
   "metadata": {},
   "source": [
    "# Why use Plotly?"
   ]
  },
  {
   "cell_type": "markdown",
   "metadata": {},
   "source": [
    "- Sophistication\n",
    "- Quality\n",
    "- Community"
   ]
  },
  {
   "cell_type": "markdown",
   "metadata": {},
   "source": [
    "-------------------------------------------------------------------------"
   ]
  },
  {
   "cell_type": "markdown",
   "metadata": {},
   "source": [
    "# Lahman's Database #"
   ]
  },
  {
   "cell_type": "markdown",
   "metadata": {},
   "source": [
    "Lahman's Database contains batting, fielding, and pitching statistics from 1871 - present while also having standings, team stats, managerial records, postseason statistics, and more. It is an incredibly valuable resource for baseball analytics and that is where our data will be coming from today."
   ]
  },
  {
   "cell_type": "markdown",
   "metadata": {},
   "source": [
    "-------------------------------------------------------------------------"
   ]
  },
  {
   "cell_type": "markdown",
   "metadata": {},
   "source": [
    "We first need to install the libraries and packages we are going to use for our analysis."
   ]
  },
  {
   "cell_type": "code",
   "execution_count": null,
   "metadata": {},
   "outputs": [],
   "source": [
    "%pip install plotly\n",
    "%pip install nbformat\n",
    "%pip install statsmodels\n",
    "%pip install matplotlib\n",
    "%pip install numpy\n",
    "%pip install scipy"
   ]
  },
  {
   "cell_type": "markdown",
   "metadata": {},
   "source": [
    "-------------------------------------------------------------------------"
   ]
  },
  {
   "cell_type": "markdown",
   "metadata": {},
   "source": [
    "# Graphing"
   ]
  },
  {
   "cell_type": "markdown",
   "metadata": {},
   "source": [
    "We will begin by making some simple graphs depicting some general relationships common to baseball. First, install the required graphing modules from the previously installed pacakges:"
   ]
  },
  {
   "cell_type": "code",
   "execution_count": null,
   "metadata": {},
   "outputs": [],
   "source": [
    "import pandas as pd\n",
    "import plotly.express as px\n",
    "pd.options.mode.chained_assignment = None"
   ]
  },
  {
   "cell_type": "markdown",
   "metadata": {},
   "source": [
    "The most important module we installed is Pandas. This allows us to work within DataFrames, which makes our analysis much easier. We'll start by reading in the 'hofbatting' csv file which contains career statistics for each member of the baseball hall of fame."
   ]
  },
  {
   "cell_type": "code",
   "execution_count": null,
   "metadata": {},
   "outputs": [],
   "source": [
    "hofbatting = pd.read_csv('hofbatting.csv')"
   ]
  },
  {
   "cell_type": "markdown",
   "metadata": {},
   "source": [
    "Now when we look at our variable 'hofbatting', we will see it is a pandas dataframe:"
   ]
  },
  {
   "cell_type": "code",
   "execution_count": null,
   "metadata": {},
   "outputs": [],
   "source": [
    "hofbatting"
   ]
  },
  {
   "cell_type": "markdown",
   "metadata": {},
   "source": [
    "To get accustomed to using dataframes, let's create a column that shows us the year in which a player was at the middle of his career called 'MidCareer' and another column which shows us what era of baseball each player played in. We can use the cut function to do this using our new MidCareer variable and then sort the values into their respective eras, or bins. "
   ]
  },
  {
   "cell_type": "code",
   "execution_count": null,
   "metadata": {},
   "outputs": [],
   "source": [
    "# Create MidCareer and Era Columns\n",
    "hofbatting['MidCareer'] = (hofbatting['From'] + hofbatting['To']) / 2\n",
    "hofbatting['Era'] = pd.cut(hofbatting['MidCareer'], bins=(1800, 1900, 1919, 1941, 1960, 1976, 1993, 2000), labels=['19th Century', 'Lively Ball', 'Dead Ball', 'Integration', 'Expansion', 'Free Agency', 'Long Ball'])"
   ]
  },
  {
   "cell_type": "markdown",
   "metadata": {},
   "source": [
    "Now let's make our first graph. Let's look at how many hall of famers played in each different era of baseball. First we'll create a new dataframe with the frequencies for each era using the value.counts() function. We then use to_frame() and reset_index() to turn our 'freq' variable into a dataframe and reset its index:"
   ]
  },
  {
   "cell_type": "code",
   "execution_count": null,
   "metadata": {},
   "outputs": [],
   "source": [
    "freq = hofbatting['Era'].value_counts().to_frame().reset_index(level=0)\n",
    "freq = freq.rename(columns={'index': 'Era', 'Era': 'Frequency'})"
   ]
  },
  {
   "cell_type": "code",
   "execution_count": null,
   "metadata": {},
   "outputs": [],
   "source": [
    "freq"
   ]
  },
  {
   "cell_type": "markdown",
   "metadata": {},
   "source": [
    "Now let's make our graph using plotly:"
   ]
  },
  {
   "cell_type": "code",
   "execution_count": null,
   "metadata": {},
   "outputs": [],
   "source": [
    "bar = px.bar(freq, x=freq['Era'], y=freq['Frequency'])\n",
    "bar.show()"
   ]
  },
  {
   "cell_type": "markdown",
   "metadata": {},
   "source": [
    "Now as a pie chart:"
   ]
  },
  {
   "cell_type": "code",
   "execution_count": null,
   "metadata": {},
   "outputs": [],
   "source": [
    "pie = px.pie(freq, values=freq['Frequency'], names=freq['Era'])\n",
    "pie.show()"
   ]
  },
  {
   "cell_type": "markdown",
   "metadata": {},
   "source": [
    "Or a dot plot:"
   ]
  },
  {
   "cell_type": "code",
   "execution_count": null,
   "metadata": {},
   "outputs": [],
   "source": [
    "dot = px.scatter(freq, x=freq['Frequency'], y=freq['Era'])\n",
    "dot.show()"
   ]
  },
  {
   "cell_type": "markdown",
   "metadata": {},
   "source": [
    "Maybe even a histogram of the distribution. Let's add some trace lines as well to distinguish our bars using plotly's update_traces function:"
   ]
  },
  {
   "cell_type": "code",
   "execution_count": null,
   "metadata": {},
   "outputs": [],
   "source": [
    "hist = px.histogram(hofbatting, x=hofbatting['MidCareer'], nbins=12)\n",
    "hist.update_traces(marker_line_color = 'Black', marker_line_width = 0.5)\n",
    "hist.show()"
   ]
  },
  {
   "cell_type": "markdown",
   "metadata": {},
   "source": [
    "Now let's take a look at a general scatter plot of every hall of fame player and their MidCareer value using the index function:"
   ]
  },
  {
   "cell_type": "code",
   "execution_count": null,
   "metadata": {},
   "outputs": [],
   "source": [
    "scatter = px.scatter(hofbatting, x=hofbatting['MidCareer'].index, y=hofbatting['MidCareer'])\n",
    "scatter.show()"
   ]
  },
  {
   "cell_type": "markdown",
   "metadata": {},
   "source": [
    "And now a strip chart of the same data:"
   ]
  },
  {
   "cell_type": "code",
   "execution_count": null,
   "metadata": {},
   "outputs": [],
   "source": [
    "strip = px.strip(hofbatting, x=hofbatting['MidCareer'])\n",
    "strip.show()"
   ]
  },
  {
   "cell_type": "markdown",
   "metadata": {},
   "source": [
    "These are some of the more simplistic graphing techniques we can employ using Plotly. Now let's look at some two-factor plotting. For this, we'll look at a player's OPS at the midpoint of their career (using our MidCareer variable):"
   ]
  },
  {
   "cell_type": "code",
   "execution_count": null,
   "metadata": {},
   "outputs": [],
   "source": [
    "twovar = px.scatter(hofbatting, x = hofbatting['MidCareer'], y = hofbatting['OPS'], trendline='lowess')\n",
    "twovar.show()"
   ]
  },
  {
   "cell_type": "markdown",
   "metadata": {},
   "source": [
    "Here I've added a LOWESS (locally weighted scatterplot smoothing) trendline to showcase some of Plotly's non-linear trendline capabilites and to generally get a better feel of our relationship."
   ]
  },
  {
   "cell_type": "markdown",
   "metadata": {},
   "source": [
    "Let's get even more advanced and create a layered strip chart showing Home Run Rates for each era of baseball. We'll create a new column in our hofbatting dataframe:"
   ]
  },
  {
   "cell_type": "code",
   "execution_count": null,
   "metadata": {},
   "outputs": [],
   "source": [
    "hofbatting['HR Rate'] = hofbatting['HR'] / hofbatting['AB']"
   ]
  },
  {
   "cell_type": "markdown",
   "metadata": {},
   "source": [
    "And then plot this factor in relationship to each era of baseball:"
   ]
  },
  {
   "cell_type": "code",
   "execution_count": null,
   "metadata": {},
   "outputs": [],
   "source": [
    "hrrateplot = px.strip(hofbatting, x=hofbatting['HR Rate'], y= hofbatting['Era'])\n",
    "hrrateplot.show()"
   ]
  },
  {
   "cell_type": "markdown",
   "metadata": {},
   "source": [
    "Let's do the same thing but with a boxplot for a more concrete understanding of our relationship:"
   ]
  },
  {
   "cell_type": "code",
   "execution_count": null,
   "metadata": {},
   "outputs": [],
   "source": [
    "hrratebox = px.box(hofbatting, x=hofbatting['HR Rate'], y=hofbatting['Era'])\n",
    "hrratebox.show()"
   ]
  },
  {
   "cell_type": "markdown",
   "metadata": {},
   "source": [
    "-------------------------------------------------------------------------"
   ]
  },
  {
   "cell_type": "markdown",
   "metadata": {},
   "source": [
    "# Runs vs. Wins"
   ]
  },
  {
   "cell_type": "markdown",
   "metadata": {},
   "source": [
    "Now that we know how to create graphs easily in plotly, lets dig into linear regression whilst exploring some other parts of our dataset:"
   ]
  },
  {
   "cell_type": "code",
   "execution_count": null,
   "metadata": {},
   "outputs": [],
   "source": [
    "teams = pd.read_csv('Teams.csv')"
   ]
  },
  {
   "cell_type": "markdown",
   "metadata": {},
   "source": [
    "Let's look at a subset of the teams data and filter it for 21st century teams only:"
   ]
  },
  {
   "cell_type": "code",
   "execution_count": null,
   "metadata": {},
   "outputs": [],
   "source": [
    "myteams = teams[['yearID', \"teamID\", 'lgID', 'G', 'W', 'L', 'R', 'RA']] [teams['yearID'] > 2000]"
   ]
  },
  {
   "cell_type": "markdown",
   "metadata": {},
   "source": [
    "Now we make two new variables, one for **Run Differential** and one for **Winning Percentage**:"
   ]
  },
  {
   "cell_type": "code",
   "execution_count": null,
   "metadata": {},
   "outputs": [],
   "source": [
    "myteams['RunDiff'] = myteams['R'] - myteams['RA']\n",
    "myteams['Winpct'] = myteams['W'] / (myteams['W'] + myteams['L'])"
   ]
  },
  {
   "cell_type": "code",
   "execution_count": null,
   "metadata": {},
   "outputs": [],
   "source": [
    "myteams"
   ]
  },
  {
   "cell_type": "markdown",
   "metadata": {},
   "source": [
    "Using what we just learned, let's graph the two together and see what kind of relationship these two factors have. Let's also add an **Ordinary Least Squares** trendline:"
   ]
  },
  {
   "cell_type": "code",
   "execution_count": null,
   "metadata": {},
   "outputs": [],
   "source": [
    "plot = px.scatter(myteams, x='RunDiff', y='Winpct', trendline='ols')\n",
    "plot.show()"
   ]
  },
  {
   "cell_type": "markdown",
   "metadata": {},
   "source": [
    "This seems to make sense: teams with a good run differential tend to have a higher winning percentage."
   ]
  },
  {
   "cell_type": "markdown",
   "metadata": {},
   "source": [
    "Now let's train a model to predict win percentage and number of wins using run differential and a linear regression model. We'll do this by using the Statsmodels package in Python:"
   ]
  },
  {
   "cell_type": "code",
   "execution_count": null,
   "metadata": {},
   "outputs": [],
   "source": [
    "import statsmodels.api as sm\n",
    "import statsmodels.formula.api as smf"
   ]
  },
  {
   "cell_type": "markdown",
   "metadata": {},
   "source": [
    "Now we can make the model:"
   ]
  },
  {
   "cell_type": "code",
   "execution_count": null,
   "metadata": {},
   "outputs": [],
   "source": [
    "model = smf.ols(formula = 'Winpct ~ RunDiff', data = myteams).fit()"
   ]
  },
  {
   "cell_type": "markdown",
   "metadata": {},
   "source": [
    "We can check model accuracy and fit using the `summary()` function:"
   ]
  },
  {
   "cell_type": "code",
   "execution_count": null,
   "metadata": {},
   "outputs": [],
   "source": [
    "model.summary()"
   ]
  },
  {
   "cell_type": "markdown",
   "metadata": {},
   "source": [
    "And now we can predict winning percentage and wins using the model we fit:"
   ]
  },
  {
   "cell_type": "code",
   "execution_count": null,
   "metadata": {},
   "outputs": [],
   "source": [
    "myteams['predictedWinpct'] = model.predict()\n",
    "myteams['predictedW'] = round(myteams['W']+myteams['L'])*myteams['predictedWinpct']"
   ]
  },
  {
   "cell_type": "markdown",
   "metadata": {},
   "source": [
    "Let's check how our model did:"
   ]
  },
  {
   "cell_type": "code",
   "execution_count": null,
   "metadata": {},
   "outputs": [],
   "source": [
    "myteams[['Winpct', 'predictedWinpct', 'W', 'predictedW']]"
   ]
  },
  {
   "cell_type": "markdown",
   "metadata": {},
   "source": [
    "Pretty solid. Now we can check the normality of our model by looking at the residuals. These functions also come from statsmodels:"
   ]
  },
  {
   "cell_type": "code",
   "execution_count": null,
   "metadata": {},
   "outputs": [],
   "source": [
    "influence = model.get_influence()\n",
    "residuals = influence.resid_studentized_internal"
   ]
  },
  {
   "cell_type": "markdown",
   "metadata": {},
   "source": [
    "Now lets make a graph of our resiudals and highlight any 'outliers', or values higher than 2.8 (an arbitrary value I decided on after looking at the data). To do this, we'll use Plotly, but not in the way that we've learned. We're going to use Plotly's `graph_objects` module, which gives us even more control over our graphing capabilities:"
   ]
  },
  {
   "cell_type": "code",
   "execution_count": null,
   "metadata": {},
   "outputs": [],
   "source": [
    "import numpy as np\n",
    "import plotly.graph_objs as go\n",
    "\n",
    "residplot = go.Figure(go.Scatter(\n",
    "    x = myteams['RunDiff'],\n",
    "    y = residuals,\n",
    "    mode = 'markers',\n",
    "    marker = dict(\n",
    "       color = \n",
    "        pd.Series(np.where(residuals>2.8, 'outlier', np.where(residuals<-2.8, 'outlier', 'normal')))\n",
    "        .astype(str).map({'normal': 0, 'outlier': 1}),\n",
    "        colorscale = [[0, 'blue'], [1, 'red']]\n",
    "       )\n",
    "     \n",
    "    )\n",
    ")\n",
    "residplot.show()"
   ]
  },
  {
   "cell_type": "markdown",
   "metadata": {},
   "source": [
    "We use a `series` (pd.Series in the code) to create an array which lists all values greater than or equal to 2.8 as outliers and anything less than 2.8 as normal. We then create a `map()` for the color of our points which maps normal to blue and outlier to red. We now have three teams identified. These teams are ones that the model predicted to have likely underperformed or overperformed based on their run differential and win percentage. "
   ]
  },
  {
   "cell_type": "markdown",
   "metadata": {},
   "source": [
    "-------------------------------------------------------------------------"
   ]
  },
  {
   "cell_type": "markdown",
   "metadata": {},
   "source": [
    "# Career Trajectories #"
   ]
  },
  {
   "cell_type": "markdown",
   "metadata": {},
   "source": [
    "The last thing we are going to look at is attempting to plot and understand career trajectories in baseball. Many players peak at different ages as baseball is a sport with high variance in season-to-season performance. Let's start by reading in two more csv files from Lahman's database:"
   ]
  },
  {
   "cell_type": "code",
   "execution_count": null,
   "metadata": {},
   "outputs": [],
   "source": [
    "batting = pd.read_csv('Batting.csv')\n",
    "master = pd.read_csv('Master.csv', encoding='latin-1')"
   ]
  },
  {
   "cell_type": "markdown",
   "metadata": {},
   "source": [
    "For the purposes of this exercise, we can replace NA values with 0:"
   ]
  },
  {
   "cell_type": "code",
   "execution_count": null,
   "metadata": {},
   "outputs": [],
   "source": [
    "batting['SF'] = batting['SF'].fillna(0)\n",
    "batting['HBP'] = batting['HBP'].fillna(0)"
   ]
  },
  {
   "cell_type": "markdown",
   "metadata": {},
   "source": [
    "Now we need to define three functions to make it easy for us to look a player's unique database ID, their birthyear, and then their career statistics per year. Let's start with getting a player's ID:"
   ]
  },
  {
   "cell_type": "code",
   "execution_count": null,
   "metadata": {},
   "outputs": [],
   "source": [
    "def getid(firstname, lastname):\n",
    "    df = master.loc[(master['nameFirst'] == firstname) & (master['nameLast'] == lastname)]\n",
    "    id = df['playerID']\n",
    "    return id"
   ]
  },
  {
   "cell_type": "markdown",
   "metadata": {},
   "source": [
    "Panda's `loc()` function helps a lot when searching through a DataFrame. Next, we need to get a player's birth year:"
   ]
  },
  {
   "cell_type": "code",
   "execution_count": null,
   "metadata": {},
   "outputs": [],
   "source": [
    "def getbirthyear(playerid):\n",
    "    df = master.loc[master['playerID'] == playerid]\n",
    "    if df['birthMonth'].any() >= 7:\n",
    "        df['birthMonth']\n",
    "    else:\n",
    "        df['birthYear'] += 1\n",
    "    return df['birthYear']"
   ]
  },
  {
   "cell_type": "markdown",
   "metadata": {},
   "source": [
    "So we create a DataFrame (`df` in the above function) using the `playerid` we find using our `getid()` function and then using this DataFrame, extract the birth year. According the Major League Baseball, a player's age is defined as how old he is as of July 1st, so we change it to account for this caveat."
   ]
  },
  {
   "cell_type": "markdown",
   "metadata": {},
   "source": [
    "Our third function will get us a player's yearly statistics, mainly SLG, OBP, and OPS:"
   ]
  },
  {
   "cell_type": "code",
   "execution_count": null,
   "metadata": {},
   "outputs": [],
   "source": [
    "def getstats(playerid):\n",
    "    df = batting.loc[batting['playerID'] == playerid]\n",
    "    birthyear = getbirthyear(playerid)\n",
    "    df['Age'] = df['yearID'] - int(birthyear)\n",
    "    df['SLG'] = (df['H'] - df['2B'] - df['3B'] - df['HR'] + 2 * df['2B'] + 3 * df['3B'] + 4 * df['HR']) / df['AB']\n",
    "    df['OBP'] = (df['H'] + df['BB']) / (df['H'] + df['AB'] + df['BB'] + df['SF'])\n",
    "    df['OPS'] = df['SLG'] + df['OBP']\n",
    "    stats = df[['Age', 'SLG', 'OBP', 'OPS']]\n",
    "    return stats"
   ]
  },
  {
   "cell_type": "markdown",
   "metadata": {},
   "source": [
    "We use the same process we did before by creating a DataFrame within the function, fill it with Age and SLG, OBP, and OPS statistics, and then return the DataFrame. You can see that to get Age, we use the getbirthyear that we created and then we subtract that year from each year of their career (1970 - 1940 = a player who is 30 years old). This is what we get when we combine all of our functions to find Mickey Mantle's career stats:"
   ]
  },
  {
   "cell_type": "code",
   "execution_count": null,
   "metadata": {},
   "outputs": [],
   "source": [
    "getid('Mickey', 'Mantle')\n"
   ]
  },
  {
   "cell_type": "code",
   "execution_count": null,
   "metadata": {},
   "outputs": [],
   "source": [
    "getstats('mantlmi01')"
   ]
  },
  {
   "cell_type": "markdown",
   "metadata": {},
   "source": [
    "Voila! We now have careeer statistics for every year Mickey Mantle played. What can we do with this? Well, using the plotting and modeling techniques we've used, we can find a player's peak age of performance. Start by graphing Mantle's OPS vs. Age to give us a general understanding of how he looked over his career:"
   ]
  },
  {
   "cell_type": "code",
   "execution_count": null,
   "metadata": {},
   "outputs": [],
   "source": [
    "mantleplot = px.scatter(getstats('mantlmi01'), x = 'Age', y = 'OPS')\n",
    "mantleplot.show()"
   ]
  },
  {
   "cell_type": "markdown",
   "metadata": {},
   "source": [
    "Interesting stuff. Now let's make a model that can predict any player's peak age based off of their OPS per year:"
   ]
  },
  {
   "cell_type": "code",
   "execution_count": null,
   "metadata": {},
   "outputs": [],
   "source": [
    "def careerprojchart(playerid):\n",
    "    stats = getstats(playerid)\n",
    "    model = np.poly1d(np.polyfit(stats['Age'], stats['OPS'], 2))\n",
    "    x = np.linspace(1, 50, 50)\n",
    "    y = model(x)\n",
    "    plot = go.Scatter(\n",
    "        x = stats['Age'],\n",
    "        y = stats['OPS'],\n",
    "        mode = 'markers',\n",
    "        marker = go.scatter.Marker(color='rgb(255, 127, 14)'),\n",
    "        name = 'Data',\n",
    "    )\n",
    "    line = go.Scatter(\n",
    "        x = x,\n",
    "        y = y,\n",
    "        mode = 'lines',\n",
    "        marker = go.scatter.Marker(color = 'rgb(31, 119, 180)'),\n",
    "        name = 'Fit'\n",
    "    )\n",
    "    data = [plot, line]\n",
    "    fig = go.Figure(data = data)\n",
    "    max_y = int(max(y))\n",
    "    max_x = (x[y.argmax(max_y)])\n",
    "    fig.add_vline(x = max_x, line_dash = 'dash', line_color = 'grey')\n",
    "    fig.add_hline(y = max(y), line_dash = 'dash', line_color = 'grey')\n",
    "    fig.update_yaxes(range = [(min(stats['OPS'] - 0.1)), (max(stats['OPS'] + 0.1))])\n",
    "    fig.update_xaxes(range = [(min(stats['Age'] - 1)), (max(stats['Age']+ 1))])\n",
    "    fig.update_layout(\n",
    "        xaxis = dict(tickmode = 'linear', dtick = 2), \n",
    "        xaxis_title = 'Age', yaxis_title = 'OPS', \n",
    "        title = 'Career Projection for {}'.format(playerid))\n",
    "    return fig"
   ]
  },
  {
   "cell_type": "markdown",
   "metadata": {},
   "source": [
    "Let's walk through this function: we start by calling the `getstats()` function so we have data to work with. We then use Numpy's `polyfit()` function to create a least squares polynomial fit of degree 2 for the relationship between Age and OPS. We use degree 2 because after looking at Mantle's career plot and having a general understanding of how athlete's careers stereotypically pan out, we know that a quadratic function will be best for our fit. \n",
    "\n",
    "We then use Numpy's `poly1d()` function which is defined as a 'convenience class' and lets us run natural operations which may take on their customary form in code. We apply our model using numpy's `linspace()` function which gives us a series of points for graph so we are able to plot our model in the line section of our plotting function. We first make a scatter plot for our datapoints and then our fitted quadratic line and then graph these two together using the `go.Figure()` function in plotly. \n",
    "\n",
    "Lastly, we create dashed lines for the peak values of Age and OPS,update the range of our graphs to fit each individual career (format the graph to look normal for any input player), and add labels and a title."
   ]
  },
  {
   "cell_type": "code",
   "execution_count": null,
   "metadata": {},
   "outputs": [],
   "source": [
    "careerprojchart('mantlmi01')"
   ]
  },
  {
   "cell_type": "markdown",
   "metadata": {},
   "source": [
    "Trying out the function for some other players:"
   ]
  },
  {
   "cell_type": "code",
   "execution_count": null,
   "metadata": {},
   "outputs": [],
   "source": [
    "getid('David', 'Ortiz')"
   ]
  },
  {
   "cell_type": "code",
   "execution_count": null,
   "metadata": {},
   "outputs": [],
   "source": [
    "careerprojchart('ortizda01')"
   ]
  },
  {
   "cell_type": "code",
   "execution_count": null,
   "metadata": {},
   "outputs": [],
   "source": [
    "getid('Sammy', 'Sosa')"
   ]
  },
  {
   "cell_type": "code",
   "execution_count": null,
   "metadata": {},
   "outputs": [],
   "source": [
    "careerprojchart('sosasa01')"
   ]
  },
  {
   "cell_type": "markdown",
   "metadata": {},
   "source": [
    "-------------------------------------------------------------------------"
   ]
  }
 ],
 "metadata": {
  "kernelspec": {
   "display_name": "Python 3.10.5 64-bit",
   "language": "python",
   "name": "python3"
  },
  "language_info": {
   "codemirror_mode": {
    "name": "ipython",
    "version": 3
   },
   "file_extension": ".py",
   "mimetype": "text/x-python",
   "name": "python",
   "nbconvert_exporter": "python",
   "pygments_lexer": "ipython3",
   "version": "3.10.5"
  },
  "orig_nbformat": 4,
  "vscode": {
   "interpreter": {
    "hash": "237413fe4cf554e3e1b344a6b2b1fc3866fe88e2661eca425fbc1ab3bd331ffe"
   }
  }
 },
 "nbformat": 4,
 "nbformat_minor": 2
}
